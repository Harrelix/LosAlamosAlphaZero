{
 "cells": [
  {
   "cell_type": "code",
   "execution_count": 1,
   "id": "d5988600-75cb-4154-bf55-390e660a2912",
   "metadata": {},
   "outputs": [],
   "source": [
    "from tensorflow.keras.utils import custom_object_scope\n",
    "from tensorflowjs.converters.converter import tf_saved_model_conversion_v2 as convert\n"
   ]
  },
  {
   "cell_type": "code",
   "execution_count": 2,
   "id": "0c05f8d3-1357-4b4b-a7a8-4d643fa47e75",
   "metadata": {},
   "outputs": [],
   "source": [
    "def softmax_cross_entropy_with_masking(y_true, y_pred):\n",
    "    p = y_pred\n",
    "    pi = y_true\n",
    "\n",
    "    # mask output where prob < 0.05 (likely illegal moves)\n",
    "    zero = tf.fill(tf.shape(pi), 0.05)\n",
    "    where = tf.less(pi, zero)\n",
    "    negatives = tf.fill(tf.shape(pi), -100.0)\n",
    "    p = tf.where(where, negatives, p)\n",
    "\n",
    "    loss = tf.nn.softmax_cross_entropy_with_logits(labels=pi, logits=p)\n",
    "\n",
    "    return loss\n"
   ]
  },
  {
   "cell_type": "code",
   "execution_count": 3,
   "id": "35012ed6-2155-48a7-83cb-4834f36d786c",
   "metadata": {},
   "outputs": [
    {
     "name": "stdout",
     "output_type": "stream",
     "text": [
      "Writing weight file ./tfjs model\\model.json...\n"
     ]
    }
   ],
   "source": [
    "with custom_object_scope({'softmax_cross_entropy_with_masking': softmax_cross_entropy_with_masking}):\n",
    "    convert.convert_tf_saved_model(\"./AlphaLAZero\", \"./tfjs model\")"
   ]
  },
  {
   "cell_type": "code",
   "execution_count": null,
   "id": "ee6acc8b-6590-463c-8ba2-bbe84d59352c",
   "metadata": {},
   "outputs": [],
   "source": []
  }
 ],
 "metadata": {
  "kernelspec": {
   "display_name": "Python 3 (ipykernel)",
   "language": "python",
   "name": "python3"
  },
  "language_info": {
   "codemirror_mode": {
    "name": "ipython",
    "version": 3
   },
   "file_extension": ".py",
   "mimetype": "text/x-python",
   "name": "python",
   "nbconvert_exporter": "python",
   "pygments_lexer": "ipython3",
   "version": "3.9.6"
  }
 },
 "nbformat": 4,
 "nbformat_minor": 5
}
